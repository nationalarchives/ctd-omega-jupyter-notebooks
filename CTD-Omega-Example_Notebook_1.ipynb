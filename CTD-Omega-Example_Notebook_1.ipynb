{
 "cells": [
  {
   "cell_type": "markdown",
   "id": "b37857ee-32d5-4ebf-bc4e-dda4c8c69a19",
   "metadata": {
    "tags": []
   },
   "source": [
    "# Example sparql queries for Netpune database\n",
    "\n",
    "Structured Query Language (SPARQL) is a powerful query language used for querying, updating, and interacting with RDF (Resource Description Framework) data. RDF is a standard model for representing data on the web, and it's particularly well-suited for expressing relationships between resources. SPARQL allows you to retrieve and manipulate RDF data, making it an essential tool for working with semantic web data and graph databases.\n",
    "\n",
    "The purpose of this notebook is to provide some simple templates for exploratory querying of the database, they are by no means exhaustive. "
   ]
  },
  {
   "cell_type": "markdown",
   "id": "72b9d770-a940-4b54-bde8-5e2097a330af",
   "metadata": {
    "tags": []
   },
   "source": [
    "## Configuration of the notebook\n",
    "\n",
    "Before beginning it is important to check that this notebook can access the neptune database that holds the data. The cell below contains two diagnostic commands that if executed, should help determine this. If you cannot access the neptune database it is probably because the notebook is unable to access the VPC that the Neptune database is hosted in, or the IAM permissions for the notebook are not configured. \n",
    "\n",
    "#### Debug commands"
   ]
  },
  {
   "cell_type": "code",
   "execution_count": null,
   "id": "6a92d055-ba12-41db-9b3f-c1cb5f592df2",
   "metadata": {
    "tags": []
   },
   "outputs": [],
   "source": [
    "%status"
   ]
  },
  {
   "cell_type": "code",
   "execution_count": null,
   "id": "752f544d-5d56-4f0e-beec-f10c33733902",
   "metadata": {
    "tags": []
   },
   "outputs": [],
   "source": [
    "%graph_notebook_config "
   ]
  },
  {
   "cell_type": "markdown",
   "id": "08668951-a943-440f-ba3e-f9aae7439cf4",
   "metadata": {},
   "source": [
    "### Basic Sparql queries for probing data\n",
    "\n",
    "#### List all subjects & predicates\n",
    "\n",
    "The following query lists all unique subjects and predicates. If the \"LIMIT\" is removed - this list may be comprehensive, but difficult to navigate."
   ]
  },
  {
   "cell_type": "code",
   "execution_count": null,
   "id": "6da1f798-09a7-4daf-948c-d4d1959cfb6c",
   "metadata": {
    "tags": []
   },
   "outputs": [],
   "source": [
    "%%sparql\n",
    "\n",
    "SELECT DISTINCT ?subject ?predicate\n",
    "WHERE {\n",
    "  ?subject ?predicate ?object\n",
    "} \n"
   ]
  },
  {
   "cell_type": "markdown",
   "id": "a353b884-3cb7-4626-b874-16ed1233230a",
   "metadata": {},
   "source": [
    "#### Simple count"
   ]
  },
  {
   "cell_type": "code",
   "execution_count": null,
   "id": "0031742c-6d4d-46db-9048-4f505e975b56",
   "metadata": {
    "tags": []
   },
   "outputs": [],
   "source": [
    "%%sparql\n",
    "\n",
    "SELECT (COUNT(*) AS ?count)\n",
    "WHERE {\n",
    "  ?subject ?predicate ?object\n",
    "}\n"
   ]
  },
  {
   "cell_type": "markdown",
   "id": "bec29593-5bd4-472a-b38a-a28c5223c3f2",
   "metadata": {},
   "source": [
    "#### Retrieve specific types of a resource "
   ]
  },
  {
   "cell_type": "code",
   "execution_count": null,
   "id": "8f1f5f1b-e199-4219-b021-fedafbc6bad1",
   "metadata": {
    "tags": []
   },
   "outputs": [],
   "source": [
    "%%sparql\n",
    "\n",
    "SELECT ?subject ?predicate\n",
    "WHERE {\n",
    "  ?subject ?predicate \"agent.48K\" .\n",
    "}\n"
   ]
  },
  {
   "cell_type": "markdown",
   "id": "98199ab3-9920-42db-8cac-dd76a6a8e6b0",
   "metadata": {},
   "source": [
    "#### Retrieve queries that share a resource between them"
   ]
  },
  {
   "cell_type": "code",
   "execution_count": null,
   "id": "53e54880-841d-425b-9f20-6fa468f12c3a",
   "metadata": {
    "tags": []
   },
   "outputs": [],
   "source": [
    "%%sparql \n",
    "\n",
    "SELECT *\n",
    "WHERE {\n",
    "  ?start ?predicate1 ?intermediate .\n",
    "  ?intermediate ?predicate2 ?end .\n",
    "}\n",
    "LIMIT 1000\n"
   ]
  },
  {
   "cell_type": "markdown",
   "id": "bb7f864d-195f-4ff1-876c-3815cd61eabf",
   "metadata": {},
   "source": [
    "#### Retrieve the subject node with the most connections"
   ]
  },
  {
   "cell_type": "code",
   "execution_count": null,
   "id": "2fbdd3c0-4329-4c9c-8a6b-5cbdff691ec6",
   "metadata": {
    "tags": []
   },
   "outputs": [],
   "source": [
    "%%sparql\n",
    "\n",
    "SELECT ?subject (COUNT(*) as ?count)\n",
    "WHERE {\n",
    "  ?subject ?predicate ?object .\n",
    "}\n",
    "GROUP BY ?subject\n",
    "ORDER BY DESC(?count)\n",
    "LIMIT 1\n"
   ]
  },
  {
   "cell_type": "markdown",
   "id": "e46ccc1f-273e-40ad-b2a2-738e12230542",
   "metadata": {},
   "source": [
    "#### Visualising the subject node and it's connections"
   ]
  },
  {
   "cell_type": "code",
   "execution_count": null,
   "id": "07280a9b-311a-42ae-bc4a-2a12c3f57132",
   "metadata": {
    "tags": []
   },
   "outputs": [],
   "source": [
    "%%sparql\n",
    "\n",
    "SELECT ?subject ?predicate ?object\n",
    "WHERE {\n",
    "  <http://cat.nationalarchives.gov.uk/COAL.2022.N2CL.P.1> ?predicate ?object .\n",
    "  BIND (<http://cat.nationalarchives.gov.uk/COAL.2022.N2CL.P.1> AS ?subject)\n",
    "}\n",
    "\n"
   ]
  },
  {
   "cell_type": "markdown",
   "id": "75200fbe-8551-4245-b8ae-59708536fd85",
   "metadata": {},
   "source": [
    "#### Finding the object node with the most connections "
   ]
  },
  {
   "cell_type": "code",
   "execution_count": null,
   "id": "e94ffd13-2cc5-48dc-b040-fe1a787215e1",
   "metadata": {
    "tags": []
   },
   "outputs": [],
   "source": [
    "%%sparql\n",
    "\n",
    "\n",
    "SELECT ?object (COUNT(?predicate) AS ?connections)\n",
    "WHERE {\n",
    "  ?subject ?predicate ?object .\n",
    "}\n",
    "GROUP BY ?object\n",
    "ORDER BY DESC(?connections)\n",
    "LIMIT 1\n",
    "\n"
   ]
  },
  {
   "cell_type": "markdown",
   "id": "46b6801d-b922-4e84-a3c5-a4077f27648d",
   "metadata": {},
   "source": [
    "#### Visualising the node with the most connections "
   ]
  },
  {
   "cell_type": "code",
   "execution_count": null,
   "id": "c59fcfeb-b2c3-4544-b6e1-95f79cbc5893",
   "metadata": {
    "tags": []
   },
   "outputs": [],
   "source": [
    "%%sparql\n",
    "\n",
    "SELECT ?subject ?predicate ?object\n",
    "WHERE {\n",
    "  ?subject ?predicate ?object .\n",
    "  FILTER (?object = <http://cat.nationalarchives.gov.uk/agent.S7>)\n",
    "} LIMIT 1000\n"
   ]
  },
  {
   "cell_type": "markdown",
   "id": "76ff72d2-62af-44b1-9dc7-546d6d219949",
   "metadata": {},
   "source": [
    "#### Finding objects with different subjects "
   ]
  },
  {
   "cell_type": "code",
   "execution_count": null,
   "id": "a0ec250b-ceb9-456b-a124-9d273e7ab839",
   "metadata": {
    "tags": []
   },
   "outputs": [],
   "source": [
    "%%sparql\n",
    "\n",
    "SELECT ?s1 ?p1 ?o\n",
    "WHERE {\n",
    "  ?s1 ?p1 ?o .\n",
    "  ?s2 ?p2 ?o .\n",
    "  FILTER (?s1 != ?s2)\n",
    "} LIMIT 1000\n"
   ]
  },
  {
   "cell_type": "markdown",
   "id": "e1f56c3c-1261-4d78-a62e-c46ca9843927",
   "metadata": {},
   "source": [
    "#### Query all triples  "
   ]
  },
  {
   "cell_type": "code",
   "execution_count": null,
   "id": "66f0abcf-3d40-44b7-b823-759b02f14b84",
   "metadata": {},
   "outputs": [],
   "source": [
    "%%sparql\n",
    "\n",
    "SELECT *\n",
    "WHERE {\n",
    "  ?subject ?predicate ?object\n",
    "} LIMIT 10000 "
   ]
  },
  {
   "cell_type": "markdown",
   "id": "965bc512-8a0b-4e46-91a8-2a2fe391eb30",
   "metadata": {},
   "source": [
    "#### Storing query results for further analysis "
   ]
  },
  {
   "cell_type": "code",
   "execution_count": null,
   "id": "b50a7c87-c367-4c07-81ce-fbaad4bc8d67",
   "metadata": {
    "tags": []
   },
   "outputs": [],
   "source": [
    "%%sparql --store-to sparql_results\n",
    "\n",
    "SELECT DISTINCT ?subject ?predicate\n",
    "WHERE {\n",
    "  ?subject ?predicate ?object\n",
    "} \n"
   ]
  },
  {
   "cell_type": "markdown",
   "id": "8aec0265-b75f-45d0-9af3-afd08be5f97a",
   "metadata": {},
   "source": [
    "#### Using stored values for further analysis "
   ]
  },
  {
   "cell_type": "code",
   "execution_count": null,
   "id": "d0954484-a6bd-4a70-a3de-2d85495da711",
   "metadata": {
    "tags": []
   },
   "outputs": [],
   "source": [
    "import matplotlib.pyplot as plt\n",
    "import pandas as pd\n",
    "\n",
    "bindings = sparql_results['results']['bindings']\n",
    "\n",
    "predicates = [binding['predicate']['value'] for binding in bindings]\n",
    "\n",
    "df = pd.DataFrame({'predicate': predicates})\n",
    "\n",
    "predicate_counts = df['predicate'].value_counts()\n",
    "\n",
    "%matplotlib inline\n",
    "\n",
    "# adjust these to format graph\n",
    "bar_width = 0.5  # Width of each bar\n",
    "spacing = 1   # Space between bars\n",
    "positions = range(len(predicate_counts))\n",
    "bar_positions = [pos * (bar_width + spacing) for pos in positions]\n",
    "\n",
    "plt.bar(bar_positions, predicate_counts.values, width=bar_width)\n",
    "\n",
    "# Set the positions and labels for the ticks on the x-axis\n",
    "plt.xticks(bar_positions, predicate_counts.index, rotation=45, ha=\"right\")\n",
    "\n",
    "plt.xlabel('Predicates')\n",
    "plt.ylabel('Number of Instances')\n",
    "plt.title('Number of Instances for Each Predicate')\n",
    "plt.show()"
   ]
  },
  {
   "cell_type": "code",
   "execution_count": null,
   "id": "15acca36-4ece-46ad-afb6-fb782ef9d26b",
   "metadata": {
    "tags": []
   },
   "outputs": [],
   "source": [
    "import matplotlib.pyplot as plt\n",
    "\n",
    "labels = [result['subject']['value'] for result in sparql_results['results']['bindings']]\n",
    "predicates = [result['predicate']['value'] for result in sparql_results['results']['bindings']]\n",
    "\n",
    "predicate_counts = {}\n",
    "for predicate in predicates:\n",
    "    if predicate in predicate_counts:\n",
    "        predicate_counts[predicate] += 1\n",
    "    else:\n",
    "        predicate_counts[predicate] = 1\n",
    "\n",
    "sorted_predicates = sorted(predicate_counts.items(), key=lambda x: x[1], reverse=True)\n",
    "\n",
    "N = 10  # You can adjust this value to display the top N predicates\n",
    "top_predicates = [predicate[0] for predicate in sorted_predicates[:N]]\n",
    "top_counts = [predicate[1] for predicate in sorted_predicates[:N]]\n",
    "\n",
    "# Create a pie chart\n",
    "plt.figure(figsize=(8, 8))\n",
    "plt.pie(top_counts, labels=top_predicates, autopct='%1.1f%%', startangle=140)\n",
    "\n",
    "plt.title('Top Predicates in SPARQL Query Results', y=1.10)# Adjust the y value to control title position\n",
    "\n",
    "plt.axis('equal')  # Equal aspect ratio ensures that the pie is drawn as a circle\n",
    "plt.show()\n"
   ]
  },
  {
   "cell_type": "markdown",
   "id": "a1ca155b-7907-4490-8553-262a7a08821a",
   "metadata": {},
   "source": [
    "#### What's wrong with an old fashioned table"
   ]
  },
  {
   "cell_type": "code",
   "execution_count": null,
   "id": "7bf7fb72-adb2-4a51-aae0-b8f93e5a9515",
   "metadata": {
    "tags": []
   },
   "outputs": [],
   "source": [
    "import pandas as pd\n",
    "\n",
    "# Extract 'predicate' values\n",
    "predicate_values = [result['predicate']['value'] for result in sparql_results['results']['bindings']]\n",
    "df = pd.DataFrame({'Predicate': predicate_values})\n",
    "predicate_counts = df['Predicate'].value_counts().reset_index()\n",
    "predicate_counts.columns = ['Predicate', 'Count']\n",
    "predicate_counts['Percentage'] = (predicate_counts['Count'] / predicate_counts['Count'].sum() * 100).round(2)\n",
    "pd.set_option('display.max_columns', None)\n",
    "pd.set_option('display.expand_frame_repr', False)\n",
    "# Display the DataFrame\n",
    "print(predicate_counts)"
   ]
  },
  {
   "cell_type": "markdown",
   "id": "c1645657-cfbe-4fa0-b920-40b71c8554a3",
   "metadata": {},
   "source": [
    "#### An interesting query to show aspects of the \"Coal 80\" subset "
   ]
  },
  {
   "cell_type": "code",
   "execution_count": null,
   "id": "138e3330-0ed2-477b-84bb-62c80bf0fc25",
   "metadata": {
    "tags": []
   },
   "outputs": [],
   "source": [
    "%%sparql\n",
    "\n",
    "PREFIX dct: <http://purl.org/dc/terms/>\n",
    "PREFIX cat: <http://cat.nationalarchives.gov.uk/>\n",
    "PREFIX ver: <http://purl.org/linked-data/version#>\n",
    "\n",
    "describe ?personConcept ?personDescription ?name\n",
    "where { ?personConcept dct:type cat:person-concept ;\n",
    "       ver:currentVersion ?personDescription . } LIMIT 100"
   ]
  },
  {
   "cell_type": "markdown",
   "id": "16578692-cf85-443f-9494-1a199dadf059",
   "metadata": {
    "tags": []
   },
   "source": [
    "#### The big finale"
   ]
  },
  {
   "cell_type": "code",
   "execution_count": null,
   "id": "382ae074-74b3-4cdd-a4cb-3785c8f3adb7",
   "metadata": {},
   "outputs": [],
   "source": [
    "%%sparql --store-to all_results\n",
    "\n",
    "SELECT *\n",
    "WHERE {\n",
    "  ?subject ?predicate ?object\n",
    "}"
   ]
  }
 ],
 "metadata": {
  "kernelspec": {
   "display_name": "Python 3",
   "language": "python",
   "name": "python3"
  },
  "language_info": {
   "codemirror_mode": {
    "name": "ipython",
    "version": 3
   },
   "file_extension": ".py",
   "mimetype": "text/x-python",
   "name": "python",
   "nbconvert_exporter": "python",
   "pygments_lexer": "ipython3",
   "version": "3.10.0"
  }
 },
 "nbformat": 4,
 "nbformat_minor": 5
}
